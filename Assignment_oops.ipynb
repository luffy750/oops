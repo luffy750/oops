{
  "nbformat": 4,
  "nbformat_minor": 0,
  "metadata": {
    "colab": {
      "provenance": []
    },
    "kernelspec": {
      "name": "python3",
      "display_name": "Python 3"
    },
    "language_info": {
      "name": "python"
    }
  },
  "cells": [
    {
      "cell_type": "markdown",
      "source": [
        "Q1. What is Object-Oriented Programming (OOP)?"
      ],
      "metadata": {
        "id": "6G_Au3RWf2xl"
      }
    },
    {
      "cell_type": "markdown",
      "source": [
        "Ans. Object-oriented programming is a style of programming characterized by the identification of classes of objects closely linked with the methods (functions) with which they are associated with."
      ],
      "metadata": {
        "id": "B-8M4NDfiS4F"
      }
    },
    {
      "cell_type": "markdown",
      "source": [
        "2. What is a class in OOP?"
      ],
      "metadata": {
        "id": "D9V5vjg9ia7p"
      }
    },
    {
      "cell_type": "markdown",
      "source": [
        "Ans. A class is a user-defined data type that serves as a blueprint for creating objects."
      ],
      "metadata": {
        "id": "0JIKeHLXigHq"
      }
    },
    {
      "cell_type": "markdown",
      "source": [
        "3. What is an object in OOP?"
      ],
      "metadata": {
        "id": "iKZrVB5RirGw"
      }
    },
    {
      "cell_type": "markdown",
      "source": [
        "Ans. An object is a fundamental unit that encapsulates data and the methods that operate on that data."
      ],
      "metadata": {
        "id": "U0UFgV5kizlC"
      }
    },
    {
      "cell_type": "markdown",
      "source": [
        "4. What is the difference between abstraction and encapsulation?"
      ],
      "metadata": {
        "id": "473ZMgtti-ZE"
      }
    },
    {
      "cell_type": "markdown",
      "source": [
        "Ans.  **Abstraction**\n",
        "\n",
        " Abstraction is the process of hiding complex implementation details and showing only the essential features of the object. It's primary function is to reduce complexity and make the system easier to understand.\n",
        "\n",
        "  **Encapsulation**\n",
        "\n",
        "Encapsulation is the practice of keeping fields (data) private and providing access to them via public methods. It's primary function is to  protect the internal state of an object and enforce controlled access."
      ],
      "metadata": {
        "id": "SIfP_BnEjJgx"
      }
    },
    {
      "cell_type": "markdown",
      "source": [
        "5. What are dunder methods in Python?"
      ],
      "metadata": {
        "id": "BLGVyI4Rj7VT"
      }
    },
    {
      "cell_type": "markdown",
      "source": [
        "Ans. Dunder methods in Python are special methods with names that start and end with double underscores, like __init__, __str__, or __len__."
      ],
      "metadata": {
        "id": "IzhPVB6HkAlL"
      }
    },
    {
      "cell_type": "markdown",
      "source": [
        "6. Explain the concept of inheritance in OOP?"
      ],
      "metadata": {
        "id": "uJQer6EqkRZt"
      }
    },
    {
      "cell_type": "markdown",
      "source": [
        "Ans. Inheritance is a fundamental concept in OOP that allows one class  to inherit the properties and behaviors  of another class ."
      ],
      "metadata": {
        "id": "IMY3QXnykYGK"
      }
    },
    {
      "cell_type": "markdown",
      "source": [
        "7. What is polymorphism in OOP?"
      ],
      "metadata": {
        "id": "et8j34I-NXee"
      }
    },
    {
      "cell_type": "markdown",
      "source": [
        "Ans. Polymorphism means “many forms”. In OOP, it allows objects of different classes to be treated as objects of a common superclass, while each object can behave differently through method overriding."
      ],
      "metadata": {
        "id": "5NAj9HMonBaJ"
      }
    },
    {
      "cell_type": "markdown",
      "source": [
        "8. How is encapsulation achieved in Python?"
      ],
      "metadata": {
        "id": "ReM8pmWgnKkC"
      }
    },
    {
      "cell_type": "markdown",
      "source": [
        "Ans. Encapsulation in Python is achieved by restricting access to attributes and methods within a class, effectively hiding the internal implementation details and preventing unintended modifications from outside the class. Python uses naming conventions to indicate the intended visibility of class members, although these conventions are not strictly enforced by the language itself.\n"
      ],
      "metadata": {
        "id": "A-G322MCnOh4"
      }
    },
    {
      "cell_type": "markdown",
      "source": [
        "9. What is a constructor in Python?"
      ],
      "metadata": {
        "id": "kVTfrY7xoQ-R"
      }
    },
    {
      "cell_type": "markdown",
      "source": [
        "Ans. Constructor in Python is a special method used to initialize a newly created object. It sets up the initial state of the object by assigning values to its properties ."
      ],
      "metadata": {
        "id": "gqY_cCSYoVc6"
      }
    },
    {
      "cell_type": "markdown",
      "source": [
        "10. What are class and static methods in Python+"
      ],
      "metadata": {
        "id": "mFHD2lUnothL"
      }
    },
    {
      "cell_type": "markdown",
      "source": [
        "Ans.\n",
        "\n",
        "    Class methods — tied to the class, not the instance\n",
        "\n",
        "    Static methods — utility functions that don’t access instance or class data"
      ],
      "metadata": {
        "id": "M-2knUVfoxvp"
      }
    },
    {
      "cell_type": "markdown",
      "source": [
        "11. What is method overloading in Python?\n"
      ],
      "metadata": {
        "id": "CVaoY8DYpBWy"
      }
    },
    {
      "cell_type": "markdown",
      "source": [
        "Ans. Method overloading refers to defining multiple methods with the same name but different parameters."
      ],
      "metadata": {
        "id": "jDp12RvWpEvq"
      }
    },
    {
      "cell_type": "markdown",
      "source": [],
      "metadata": {
        "id": "Z7QKtmuLp9wy"
      }
    },
    {
      "cell_type": "markdown",
      "source": [
        "12. What is method overriding in OOP?"
      ],
      "metadata": {
        "id": "Oh4ArGj5p93g"
      }
    },
    {
      "cell_type": "markdown",
      "source": [
        "Method overriding is an OOP feature that allows a child (subclass) to provide a specific implementation of a method that is already defined in its parent (superclass).\n",
        "\n",
        "It enables runtime polymorphism, where the method that gets called depends on the object’s class at runtime, not the reference type."
      ],
      "metadata": {
        "id": "tfIC48QRqNIz"
      }
    },
    {
      "cell_type": "markdown",
      "source": [
        "13. What is a property decorator in Python?"
      ],
      "metadata": {
        "id": "NjfsBngXqasg"
      }
    },
    {
      "cell_type": "markdown",
      "source": [
        "Ans. A property decorator in Python is a built-in way to create managed attributes — allowing you to define getter, setter, and deleter methods for a class attribute, while accessing it like a regular attribute (without explicit method calls)."
      ],
      "metadata": {
        "id": "BNM8h2Pkqh8m"
      }
    },
    {
      "cell_type": "markdown",
      "source": [
        "14. Why is polymorphism important in OOP?"
      ],
      "metadata": {
        "id": "bHpsFHOlHF2Y"
      }
    },
    {
      "cell_type": "markdown",
      "source": [
        "Ans. Polymorphism is crucial in OOP+ for its ability to create flexible, reusable, and extensible code. It allows objects to behave in different ways based on their specific type, even when they are treated as objects of a common superclass or interface."
      ],
      "metadata": {
        "id": "-Bcl-rNNHKxt"
      }
    },
    {
      "cell_type": "markdown",
      "source": [
        "15. What is an abstract class in Python?"
      ],
      "metadata": {
        "id": "Dy7hvJ7fHjkE"
      }
    },
    {
      "cell_type": "markdown",
      "source": [
        "Ans. An abstract class in Python is a class that cannot be instantiated directly and is designed to be inherited by other classes. It often contains one or more abstract methods, which are method declarations without implementations. Subclasses are expected to implement these methods."
      ],
      "metadata": {
        "id": "YslDfuoUHqlO"
      }
    },
    {
      "cell_type": "markdown",
      "source": [
        "16. What are the advantages of OOP?"
      ],
      "metadata": {
        "id": "G8ijLe0KH1fH"
      }
    },
    {
      "cell_type": "markdown",
      "source": [
        "Ans. Key Advantages of OOP\n",
        "1. Modularity (Separation of Concerns)\n",
        "\n",
        "Code is organized into classes and objects, making it easier to divide functionality.\n",
        "\n",
        "➡️ Each class has a single responsibility.\n",
        "2. Reusability (via Inheritance)\n",
        "\n",
        "Once a class is written, it can be reused or extended using inheritance.\n",
        "\n",
        "➡️ Reduces redundancy and avoids code duplication.\n",
        "3. Encapsulation (Data Protection)\n",
        "\n",
        "OOP hides internal state and requires all interaction to occur through an object’s methods.\n",
        "\n",
        "➡️ Improves security and prevents unintended interference.\n",
        "4. Polymorphism (Flexible Code Behavior)\n",
        "\n",
        "You can define a common interface and implement it in multiple ways.\n",
        "\n",
        "➡️ Same function/method works on different objects seamlessly.\n",
        "5. Abstraction (Simplification)\n",
        "\n",
        "You can hide complex details and expose only the necessary parts of an object.\n",
        "\n",
        "➡️ Makes complex systems easier to use and understand.\n",
        "6. Maintainability and Scalability\n",
        "\n",
        "Code is easier to debug, update, and scale due to its structured and modular nature.\n",
        "\n",
        "➡️ Large applications become more manageable.\n",
        "7. Improved Collaboration\n",
        "\n",
        "Multiple developers can work on different classes or modules independently.\n",
        "\n",
        "➡️ Better teamwork and clearer code ownership.\n",
        "8. Real-World Modeling\n",
        "\n",
        "OOP maps naturally to real-world concepts (objects, behaviors, relationships).\n",
        "\n",
        "➡️ Makes code more intuitive and relatable."
      ],
      "metadata": {
        "id": "PAzI7ka4H-Ci"
      }
    },
    {
      "cell_type": "markdown",
      "source": [
        "17. What is the difference between a class variable and an instance variable?"
      ],
      "metadata": {
        "id": "3Qed5brkIj-D"
      }
    },
    {
      "cell_type": "markdown",
      "source": [
        "Ans. In Python class variables and instance variables store data, but they differ in how and where that data is stored and accessed.\n",
        " 1. Instance Variable\n",
        "\n",
        "    - Defined inside methods, typically within __init__(), using self.\n",
        "\n",
        "    - Unique to each object (instance) of the class.\n",
        "\n",
        "    - Stores data specific to that object.\n",
        "\n",
        "\n",
        " 2. Class Variable\n",
        "\n",
        "    - Defined directly inside the class, outside any methods.\n",
        "    - Shared across all instances of the class.\n",
        "    - Used for data common to all objects."
      ],
      "metadata": {
        "id": "vHrNL80OIrFj"
      }
    },
    {
      "cell_type": "markdown",
      "source": [
        "19. Explain the purpose of ‘’__str__’ and ‘__repr__’ ‘ methods in Python?"
      ],
      "metadata": {
        "id": "6VtUmHHVJW8c"
      }
    },
    {
      "cell_type": "markdown",
      "source": [
        "Ans. In Python, __str__ and __repr__ are special dunder methods (double underscore methods) used to define how objects are represented as strings.\n",
        "\n",
        "__str__ - Human-readable string representation.\n",
        "\n",
        "__repr__ - Developer-focused, unambiguous string output."
      ],
      "metadata": {
        "id": "zxAso2L2Jpac"
      }
    },
    {
      "cell_type": "markdown",
      "source": [
        "20. What is the significance of the ‘super()’ function in Python?"
      ],
      "metadata": {
        "id": "n3fxgXwSKIFV"
      }
    },
    {
      "cell_type": "markdown",
      "source": [
        "Ans. The super() function in Python is used to call methods from a parent (super) class in a subclass. It allows child classes to extend or customize inherited behavior without completely rewriting the parent’s code."
      ],
      "metadata": {
        "id": "3RCNyRp_KM0V"
      }
    },
    {
      "cell_type": "markdown",
      "source": [
        "21. What is the significance of the __del__ method in Python?"
      ],
      "metadata": {
        "id": "mRmkl4hWKZMJ"
      }
    },
    {
      "cell_type": "markdown",
      "source": [
        "Ans. The __del__ method in Python is a destructor method. It’s called automatically when an object is about to be destroyed (i.e., when its reference count drops to zero)."
      ],
      "metadata": {
        "id": "aUXCiklRKd8d"
      }
    },
    {
      "cell_type": "markdown",
      "source": [
        "22. What is the difference between @staticmethod and @classmethod in Python?"
      ],
      "metadata": {
        "id": "Ws-fQyXtKnCF"
      }
    },
    {
      "cell_type": "markdown",
      "source": [
        "Ans. **Staticmethod**:\n",
        "\n",
        "- It is not bound to the class or the instance.\n",
        "- It doesn't receive any implicit first argument (neither self nor cls).\n",
        "- It behaves like a regular function but is logically grouped within the class.\n",
        "- It cannot access or modify the class state.\n",
        "\n",
        "**Classmethod**:\n",
        "\n",
        "- It is bound to the class, not the instance.\n",
        "- It receives the class itself as the first argument, conventionally named cls.\n",
        "- It can access and modify the class state (class attributes).\n",
        "- It can be called on the class itself or on an instance of the class.\n"
      ],
      "metadata": {
        "id": "tU02hw2nKrmc"
      }
    },
    {
      "cell_type": "markdown",
      "source": [
        "23. How does polymorphism work in Python with inheritance?"
      ],
      "metadata": {
        "id": "VSC3I0xQLSJk"
      }
    },
    {
      "cell_type": "markdown",
      "source": [
        "Ans. Polymorphism, meaning \"many forms,\" enables objects of different classes to respond to the same method call in their own specific ways. When combined with inheritance in Python, polymorphism allows a child class to redefine a method inherited from its parent class, a process called method overriding. This mechanism ensures that the correct version of a method is called based on the object's actual type, even when referred to by a parent class reference."
      ],
      "metadata": {
        "id": "6VNqeM9QLtod"
      }
    },
    {
      "cell_type": "markdown",
      "source": [
        "24. What is method chaining in Python OOP?"
      ],
      "metadata": {
        "id": "Htr4G7q0Lwi8"
      }
    },
    {
      "cell_type": "markdown",
      "source": [
        "Ans. Method chaining is a programming technique where multiple methods are called sequentially in a single line on the same object. Each method returns the object itself (self), allowing the next method to be called directly."
      ],
      "metadata": {
        "id": "EZ6FRV9uL5FW"
      }
    },
    {
      "cell_type": "markdown",
      "source": [
        "25. What is the purpose of the __call__ method in Python?"
      ],
      "metadata": {
        "id": "SIEG5--fMDgX"
      }
    },
    {
      "cell_type": "markdown",
      "source": [
        "Ans. The __call__ method in Python allows an instance of a class to be called like a function. If a class defines a __call__ method, you can use the object with parentheses () just like you would call a regular function."
      ],
      "metadata": {
        "id": "ndTSIw-bMHUL"
      }
    },
    {
      "cell_type": "markdown",
      "source": [
        "# Practical Questions"
      ],
      "metadata": {
        "id": "Pb5EsIwIMmpH"
      }
    },
    {
      "cell_type": "markdown",
      "source": [
        "1. Create a parent class Animal with a method speak() that prints a generic message. Create a child class Dog\n",
        "that overrides the speak() method to print \"Bark!\"."
      ],
      "metadata": {
        "id": "cQaACFWnNuFf"
      }
    },
    {
      "cell_type": "code",
      "source": [
        "class Animal:\n",
        "    def speak(self):\n",
        "        print(\"mai hu janwar bhow bhow.\")\n",
        "\n",
        "class Dog(Animal):\n",
        "    def speak(self):\n",
        "        print(\"Bark!\")\n",
        "\n",
        "animal = Animal()\n",
        "animal.speak()\n",
        "\n",
        "dog = Dog()\n",
        "dog.speak()"
      ],
      "metadata": {
        "colab": {
          "base_uri": "https://localhost:8080/"
        },
        "id": "CRe-bZwAN1Mx",
        "outputId": "9eb6d1c0-715e-4f8f-fea7-e11f1a0c1b92"
      },
      "execution_count": 3,
      "outputs": [
        {
          "output_type": "stream",
          "name": "stdout",
          "text": [
            "mai hu janwar bhow bhow.\n",
            "Bark!\n"
          ]
        }
      ]
    },
    {
      "cell_type": "markdown",
      "source": [
        "2. Write a program to create an abstract class Shape with a method area(). Derive classes Circle and Rectangle from it and implement the area() method in both."
      ],
      "metadata": {
        "id": "pg9RcMpNQBru"
      }
    },
    {
      "cell_type": "code",
      "source": [
        "class Shape :\n",
        "    def area(self):\n",
        "        pass\n",
        "\n",
        "class Circle :\n",
        "    def __init__(self, radius):\n",
        "        self.radius = radius\n",
        "\n",
        "    def area(self):\n",
        "        return 3.14 * self.radius ** 2\n",
        "\n",
        "class Rectangle :\n",
        "    def __init__(self, width, height):\n",
        "        self.width = width\n",
        "        self.height = height\n",
        "\n",
        "    def area(self):\n",
        "        return self.width * self.height\n",
        "\n",
        "c = Circle(2)\n",
        "r = Rectangle(4, 5)\n",
        "\n",
        "print(\"Area of circle is :\", c.area())\n",
        "print(\"Area of rectangle is :\", r.area())"
      ],
      "metadata": {
        "colab": {
          "base_uri": "https://localhost:8080/"
        },
        "id": "buUEbOa7EQrK",
        "outputId": "177fa2d7-7a99-4a0c-8a5a-33463429d414"
      },
      "execution_count": 5,
      "outputs": [
        {
          "output_type": "stream",
          "name": "stdout",
          "text": [
            "Area of circle is : 12.56\n",
            "Area of rectangle is : 20\n"
          ]
        }
      ]
    },
    {
      "cell_type": "markdown",
      "source": [
        "3. Implement a multi-level inheritance scenario where a class Vehicle has an attribute type. Derive a class Car and further derive a class ElectricCar that adds a battery attribute."
      ],
      "metadata": {
        "id": "RU4JvkmCFJPU"
      }
    },
    {
      "cell_type": "code",
      "source": [
        "class Vehicle:\n",
        "    def __init__(self, vehicle_type):\n",
        "        self.vehicle_type = vehicle_type\n",
        "\n",
        "    def display_info(self):\n",
        "        print(f\"Vehicle Type: {self.vehicle_type}\")\n",
        "\n",
        "class Car(Vehicle):\n",
        "    def __init__(self, vehicle_type, brand):\n",
        "        super().__init__(vehicle_type)\n",
        "        self.brand = brand\n",
        "\n",
        "    def display_info(self):\n",
        "        super().display_info()\n",
        "        print(f\"Brand: {self.brand}\")\n",
        "\n",
        "class ElectricCar(Car):\n",
        "    def __init__(self, vehicle_type, brand, battery_capacity):\n",
        "        super().__init__(vehicle_type, brand)\n",
        "        self.battery_capacity = battery_capacity\n",
        "\n",
        "    def display_info(self):\n",
        "        super().display_info()\n",
        "        print(f\"Battery Capacity: {self.battery_capacity} kWh\")\n",
        "\n",
        "my_electric_car = ElectricCar(\"Electric\", \"Tesla\", 75)\n",
        "my_electric_car.display_info()"
      ],
      "metadata": {
        "colab": {
          "base_uri": "https://localhost:8080/"
        },
        "id": "b9I6Lc2JFleX",
        "outputId": "4e70778b-e593-4b9c-9c14-dc7f0d297260"
      },
      "execution_count": 6,
      "outputs": [
        {
          "output_type": "stream",
          "name": "stdout",
          "text": [
            "Vehicle Type: Electric\n",
            "Brand: Tesla\n",
            "Battery Capacity: 75 kWh\n"
          ]
        }
      ]
    },
    {
      "cell_type": "markdown",
      "source": [
        "4. Demonstrate polymorphism by creating a base class Bird with a method fly(). Create two derived classes Sparrow and Penguin that override the fly() method.\n"
      ],
      "metadata": {
        "id": "V51OX19hH6VR"
      }
    },
    {
      "cell_type": "code",
      "source": [
        "class Bird:\n",
        "    def fly(self):\n",
        "        print(\"Bird is flying\")\n",
        "\n",
        "class Sparrow(Bird):\n",
        "    def fly(self):\n",
        "        print(\"Sparrow can fly high\")\n",
        "\n",
        "class Penguin(Bird):\n",
        "    def fly(self):\n",
        "        print(\"Penguin can't fly\")\n",
        "\n",
        "def bird_fly_test(bird):\n",
        "    bird.fly()\n",
        "\n",
        "sparrow = Sparrow()\n",
        "penguin = Penguin()\n",
        "\n",
        "bird_fly_test(sparrow)\n",
        "bird_fly_test(penguin)"
      ],
      "metadata": {
        "colab": {
          "base_uri": "https://localhost:8080/"
        },
        "id": "UMMAcqrjIBOe",
        "outputId": "8d2cf669-6727-4f1f-d1a8-a7f044a9afb8"
      },
      "execution_count": 7,
      "outputs": [
        {
          "output_type": "stream",
          "name": "stdout",
          "text": [
            "Sparrow can fly high\n",
            "Penguin can't fly\n"
          ]
        }
      ]
    },
    {
      "cell_type": "code",
      "source": [],
      "metadata": {
        "id": "AAK1Y-w3IP-X"
      },
      "execution_count": null,
      "outputs": []
    },
    {
      "cell_type": "markdown",
      "source": [
        "5. Write a program to demonstrate encapsulation by creating a class BankAccount with private attributes balance and methods to deposit, withdraw, and check balance."
      ],
      "metadata": {
        "id": "anDc_ANwIRKV"
      }
    },
    {
      "cell_type": "code",
      "source": [
        "class BankAccount:\n",
        "    def __init__(self, initial_balance=0):\n",
        "        self.__balance = initial_balance\n",
        "\n",
        "    def deposit(self, amount):\n",
        "        if amount > 0:\n",
        "            self.__balance += amount\n",
        "            print(f\"Deposited: {amount}\")\n",
        "        else:\n",
        "            print(\"Deposit amount must be positive.\")\n",
        "\n",
        "    def withdraw(self, amount):\n",
        "        if 0 < amount <= self.__balance:\n",
        "            self.__balance -= amount\n",
        "            print(f\"Withdrawn: {amount}\")\n",
        "        else:\n",
        "            print(\"Insufficient balance .\")\n",
        "\n",
        "    def check_balance(self):\n",
        "        print(f\"Current Balance: {self.__balance}\")\n",
        "\n",
        "account = BankAccount(100)\n",
        "account.deposit(50)\n",
        "account.withdraw(30)\n",
        "account.check_balance()"
      ],
      "metadata": {
        "colab": {
          "base_uri": "https://localhost:8080/"
        },
        "id": "HLRgl74OIWPe",
        "outputId": "d62c1fc8-ccc4-4945-9321-eaaa37a207c5"
      },
      "execution_count": 8,
      "outputs": [
        {
          "output_type": "stream",
          "name": "stdout",
          "text": [
            "Deposited: 50\n",
            "Withdrawn: 30\n",
            "Current Balance: 120\n"
          ]
        }
      ]
    },
    {
      "cell_type": "markdown",
      "source": [],
      "metadata": {
        "id": "2dnmOrjzJ0T1"
      }
    },
    {
      "cell_type": "markdown",
      "source": [
        "6.  Demonstrate runtime polymorphism using a method play() in a base class Instrument. Derive classes Guitar and Piano that implement their own version of play().\n",
        "\n",
        "\n"
      ],
      "metadata": {
        "id": "BRMjatXaJ51d"
      }
    },
    {
      "cell_type": "code",
      "source": [
        "class Instrument:\n",
        "    def play(self):\n",
        "        print(\"Playing an instrument\")\n",
        "\n",
        "class Guitar(Instrument):\n",
        "    def play(self):\n",
        "        print(\"Playing the guitar\")\n",
        "\n",
        "class Piano(Instrument):\n",
        "    def play(self):\n",
        "        print(\"Playing the piano\")\n",
        "\n",
        "def perform(instrument):\n",
        "    instrument.play()\n",
        "\n",
        "guitar = Guitar()\n",
        "piano = Piano()\n",
        "\n",
        "perform(guitar)\n",
        "perform(piano)"
      ],
      "metadata": {
        "colab": {
          "base_uri": "https://localhost:8080/"
        },
        "id": "TNv7y6oTKS-S",
        "outputId": "98c73b7e-4693-4fca-cd73-4dab5d1bdc46"
      },
      "execution_count": 10,
      "outputs": [
        {
          "output_type": "stream",
          "name": "stdout",
          "text": [
            "Playing the guitar\n",
            "Playing the piano\n"
          ]
        }
      ]
    },
    {
      "cell_type": "markdown",
      "source": [
        "7.  Create a class MathOperations with a class method add_numbers() to add two numbers and a static method subtract_numbers() to subtract two numbers.\n"
      ],
      "metadata": {
        "id": "3Pp1glIwKUm4"
      }
    },
    {
      "cell_type": "code",
      "source": [
        "class MathOperations:\n",
        "    @classmethod\n",
        "    def add_numbers(cls, a, b):\n",
        "        return a + b\n",
        "\n",
        "    def subtract_numbers(a, b):\n",
        "        return a - b\n",
        "\n",
        "result1 = MathOperations.add_numbers(10, 5)\n",
        "result2 = MathOperations.subtract_numbers(10, 5)\n",
        "\n",
        "print(\"Addition:\", result1)\n",
        "print(\"Subtraction:\", result2)"
      ],
      "metadata": {
        "colab": {
          "base_uri": "https://localhost:8080/"
        },
        "id": "QE-mJD0GLFOc",
        "outputId": "bcbdb404-31dc-4018-f0d1-30746ad62fae"
      },
      "execution_count": 11,
      "outputs": [
        {
          "output_type": "stream",
          "name": "stdout",
          "text": [
            "Addition: 15\n",
            "Subtraction: 5\n"
          ]
        }
      ]
    },
    {
      "cell_type": "markdown",
      "source": [
        "8. Implement a class Person with a class method to count the total number of persons created."
      ],
      "metadata": {
        "id": "fc30eUyANZ5w"
      }
    },
    {
      "cell_type": "code",
      "source": [
        "class Person:\n",
        "    count = 0\n",
        "\n",
        "    def __init__(self, name):\n",
        "        self.name = name\n",
        "        Person.count += 1\n",
        "\n",
        "    @classmethod\n",
        "    def total_persons(cls):\n",
        "        return cls.count\n",
        "\n",
        "p1 = Person(\"nanu\")\n",
        "p2 = Person(\"chachu\")\n",
        "p3 = Person(\"mausi\")\n",
        "\n",
        "print(\"Total persons created:\", Person.total_persons())"
      ],
      "metadata": {
        "colab": {
          "base_uri": "https://localhost:8080/"
        },
        "id": "Jeh2FoUHOGKC",
        "outputId": "207d3109-cdf6-4e96-d63b-5632d73397cd"
      },
      "execution_count": 13,
      "outputs": [
        {
          "output_type": "stream",
          "name": "stdout",
          "text": [
            "Total persons created: 3\n"
          ]
        }
      ]
    },
    {
      "cell_type": "markdown",
      "source": [
        "9. Write a class Fraction with attributes numerator and denominator. Override the str method to display the fraction as \"numerator/denominator\"."
      ],
      "metadata": {
        "id": "6I4-T-HPOSH9"
      }
    },
    {
      "cell_type": "code",
      "source": [
        "class Fraction:\n",
        "    def __init__(self, numerator, denominator):\n",
        "        self.numerator = numerator\n",
        "        self.denominator = denominator\n",
        "\n",
        "    def __str__(self):\n",
        "        return f\"{self.numerator}/{self.denominator}\"\n",
        "\n",
        "f = Fraction(3, 4)\n",
        "print(f)"
      ],
      "metadata": {
        "colab": {
          "base_uri": "https://localhost:8080/"
        },
        "id": "zXq7n3jbOb3-",
        "outputId": "e3fcf0a9-4cd0-426f-f574-35daae8a1f81"
      },
      "execution_count": 14,
      "outputs": [
        {
          "output_type": "stream",
          "name": "stdout",
          "text": [
            "3/4\n"
          ]
        }
      ]
    },
    {
      "cell_type": "markdown",
      "source": [
        "10. Demonstrate operator overloading by creating a class Vector and overriding the add method to add two vectors."
      ],
      "metadata": {
        "id": "ONSWLAz3R3n4"
      }
    },
    {
      "cell_type": "code",
      "source": [
        "class Vector:\n",
        "    def __init__(self, x, y):\n",
        "        self.x = x\n",
        "        self.y = y\n",
        "\n",
        "    def __add__(self, other):\n",
        "        return Vector(self.x + other.x, self.y + other.y)\n",
        "\n",
        "    def __str__(self):\n",
        "        return f\"({self.x}, {self.y})\"\n",
        "\n",
        "v1 = Vector(2, 3)\n",
        "v2 = Vector(4, 5)\n",
        "v3 = v1 + v2\n",
        "\n",
        "print(\"v1:\", v1)\n",
        "print(\"v2:\", v2)\n",
        "print(\"v1 + v2:\", v3)"
      ],
      "metadata": {
        "colab": {
          "base_uri": "https://localhost:8080/"
        },
        "id": "YYkeVnTzR_jE",
        "outputId": "73256ac7-f759-461a-ec38-0b104732f873"
      },
      "execution_count": 15,
      "outputs": [
        {
          "output_type": "stream",
          "name": "stdout",
          "text": [
            "v1: (2, 3)\n",
            "v2: (4, 5)\n",
            "v1 + v2: (6, 8)\n"
          ]
        }
      ]
    },
    {
      "cell_type": "markdown",
      "source": [
        "11. Create a class Person with attributes name and age. Add a method greet() that prints \"Hello, my name is{name} and I am {age} years old.\"\n"
      ],
      "metadata": {
        "id": "QYHvON8_SXSd"
      }
    },
    {
      "cell_type": "code",
      "source": [
        "class Person:\n",
        "    def __init__(self, name, age):\n",
        "        self.name = name\n",
        "        self.age = age\n",
        "\n",
        "    def greet(self):\n",
        "        print(f\"Hello, my name is {self.name} and I am {self.age} years old.\")\n",
        "\n",
        "person = Person(\"raju\", 30)\n",
        "person.greet()"
      ],
      "metadata": {
        "colab": {
          "base_uri": "https://localhost:8080/"
        },
        "id": "PR1ChxPuPWMO",
        "outputId": "5b7d6f15-7484-4392-efad-0cf94df32119"
      },
      "execution_count": 1,
      "outputs": [
        {
          "output_type": "stream",
          "name": "stdout",
          "text": [
            "Hello, my name is raju and I am 30 years old.\n"
          ]
        }
      ]
    },
    {
      "cell_type": "markdown",
      "source": [
        "12. Implement a class Student with attributes name and grades. Create a method average_grade() to compute the average of the grades.\n"
      ],
      "metadata": {
        "id": "36zszCtcPb9J"
      }
    },
    {
      "cell_type": "code",
      "source": [
        "class Student:\n",
        "    def __init__(self, name, grades):\n",
        "        self.name = name\n",
        "        self.grades = grades\n",
        "\n",
        "    def average_grade(self):\n",
        "        if not self.grades:\n",
        "            return 0\n",
        "        return sum(self.grades) / len(self.grades)\n",
        "\n",
        "student = Student(\"John\", [85, 90, 78, 92])\n",
        "print(f\"{student.name}'s average grade is: {student.average_grade()}\")"
      ],
      "metadata": {
        "colab": {
          "base_uri": "https://localhost:8080/"
        },
        "id": "qGtJUm0CPe2w",
        "outputId": "a4dc9a18-f281-4080-da23-59e54a9af64a"
      },
      "execution_count": 2,
      "outputs": [
        {
          "output_type": "stream",
          "name": "stdout",
          "text": [
            "John's average grade is: 86.25\n"
          ]
        }
      ]
    },
    {
      "cell_type": "markdown",
      "source": [
        "13. Create a class Rectangle with methods set_dimensions() to set the dimensions and area() to calculate the area."
      ],
      "metadata": {
        "id": "FMzepcsdP4FJ"
      }
    },
    {
      "cell_type": "code",
      "source": [
        "class Rectangle:\n",
        "    def __init__(self):\n",
        "        self.length = 0\n",
        "        self.width = 0\n",
        "\n",
        "    def set_dimensions(self, length, width):\n",
        "        self.length = length\n",
        "        self.width = width\n",
        "\n",
        "    def area(self):\n",
        "        return self.length * self.width\n",
        "\n",
        "rect = Rectangle()\n",
        "rect.set_dimensions(5, 3)\n",
        "print(\"Area of rectangle:\", rect.area())"
      ],
      "metadata": {
        "colab": {
          "base_uri": "https://localhost:8080/"
        },
        "id": "IIyuNXzaP9fh",
        "outputId": "5b9aa43c-0617-4b78-fc04-a18bcedad6c7"
      },
      "execution_count": 3,
      "outputs": [
        {
          "output_type": "stream",
          "name": "stdout",
          "text": [
            "Area of rectangle: 15\n"
          ]
        }
      ]
    },
    {
      "cell_type": "markdown",
      "source": [
        "14. Create a class Employee with a method calculate_salary() that computes the salary based on hours worked and hourly rate. Create a derived class Manager that adds a bonus to the salary."
      ],
      "metadata": {
        "id": "hX52A_lOQK7j"
      }
    },
    {
      "cell_type": "code",
      "source": [
        "class Employee:\n",
        "    def calculate_salary(self, hours, rate):\n",
        "        return hours * rate\n",
        "\n",
        "class Manager(Employee):\n",
        "    def calculate_salary(self, hours, rate, bonus):\n",
        "        return (hours * rate) + bonus\n",
        "\n",
        "emp = Employee()\n",
        "mgr = Manager()\n",
        "\n",
        "print(\"Employee Salary:\", emp.calculate_salary(40, 20))\n",
        "print(\"Manager Salary:\", mgr.calculate_salary(40, 20, 300))"
      ],
      "metadata": {
        "colab": {
          "base_uri": "https://localhost:8080/"
        },
        "id": "DUMtKGgHQOQJ",
        "outputId": "c83beda1-f000-4ee9-bd34-332a3b7261a5"
      },
      "execution_count": 4,
      "outputs": [
        {
          "output_type": "stream",
          "name": "stdout",
          "text": [
            "Employee Salary: 800\n",
            "Manager Salary: 1100\n"
          ]
        }
      ]
    },
    {
      "cell_type": "markdown",
      "source": [
        "15. Create a class Product with attributes name, price, and quantity. Implement a method total_price() that calculates the total price of the product."
      ],
      "metadata": {
        "id": "pVyEVf9jQmCO"
      }
    },
    {
      "cell_type": "code",
      "source": [
        "class Product:\n",
        "    def __init__(self, name, price, quantity):\n",
        "        self.name = name\n",
        "        self.price = price\n",
        "        self.quantity = quantity\n",
        "\n",
        "    def total_price(self):\n",
        "        return self.price * self.quantity\n",
        "\n",
        "product = Product(\"Pen\", 10, 5)\n",
        "print(f\"Total price for {product.name}: {product.total_price()}\")"
      ],
      "metadata": {
        "colab": {
          "base_uri": "https://localhost:8080/"
        },
        "id": "cEk6U42DQr6q",
        "outputId": "b757b54d-439b-4063-8dae-bb28bb659afa"
      },
      "execution_count": 5,
      "outputs": [
        {
          "output_type": "stream",
          "name": "stdout",
          "text": [
            "Total price for Pen: 50\n"
          ]
        }
      ]
    },
    {
      "cell_type": "markdown",
      "source": [
        "16. Create a class Animal with an abstract method sound(). Create two derived classes Cow and Sheep that implement the sound() method."
      ],
      "metadata": {
        "id": "lDPZRFuRQ00r"
      }
    },
    {
      "cell_type": "code",
      "source": [
        "from abc import ABC, abstractmethod\n",
        "\n",
        "class Animal(ABC):\n",
        "    @abstractmethod\n",
        "    def sound(self):\n",
        "        pass\n",
        "\n",
        "class Cow(Animal):\n",
        "    def sound(self):\n",
        "        print(\"Cow says Moo\")\n",
        "\n",
        "class Sheep(Animal):\n",
        "    def sound(self):\n",
        "        print(\"Sheep says Baa\")\n",
        "\n",
        "cow = Cow()\n",
        "sheep = Sheep()\n",
        "\n",
        "cow.sound()\n",
        "sheep.sound()"
      ],
      "metadata": {
        "colab": {
          "base_uri": "https://localhost:8080/"
        },
        "id": "gdxdHhypQ7NU",
        "outputId": "e3630594-15c0-445f-fd64-83c54fe95311"
      },
      "execution_count": 6,
      "outputs": [
        {
          "output_type": "stream",
          "name": "stdout",
          "text": [
            "Cow says Moo\n",
            "Sheep says Baa\n"
          ]
        }
      ]
    },
    {
      "cell_type": "markdown",
      "source": [
        " 17. Create a class Book with attributes title, author, and year_published. Add a method get_book_info() that returns a formatted string with the book's details."
      ],
      "metadata": {
        "id": "djYQOnfqRJuO"
      }
    },
    {
      "cell_type": "code",
      "source": [
        "class Book:\n",
        "    def __init__(self, title, author, year_published):\n",
        "        self.title = title\n",
        "        self.author = author\n",
        "        self.year_published = year_published\n",
        "\n",
        "    def get_book_info(self):\n",
        "        return f\"'{self.title}' by {self.author} (Published in {self.year_published})\"\n",
        "\n",
        "book = Book(\"Half Girlfriend\", \"chetan bhagat\", 2013)\n",
        "print(book.get_book_info())\n",
        "\n",
        "\n"
      ],
      "metadata": {
        "colab": {
          "base_uri": "https://localhost:8080/"
        },
        "id": "dI80fuwARlNk",
        "outputId": "33027c4b-2d63-4349-8705-c8d1c77025e3"
      },
      "execution_count": 7,
      "outputs": [
        {
          "output_type": "stream",
          "name": "stdout",
          "text": [
            "'Half Girlfriend' by chetan bhagat (Published in 2013)\n"
          ]
        }
      ]
    },
    {
      "cell_type": "markdown",
      "source": [
        "18. Create a class House with attributes address and price. Create a derived class Mansion that adds an attribute number_of_rooms."
      ],
      "metadata": {
        "id": "SMFudoCsRzsI"
      }
    },
    {
      "cell_type": "code",
      "source": [
        "class House:\n",
        "    def __init__(self, address, price):\n",
        "        self.address = address\n",
        "        self.price = price\n",
        "\n",
        "class Mansion(House):\n",
        "    def __init__(self, address, price, number_of_rooms):\n",
        "        super().__init__(address, price)\n",
        "        self.number_of_rooms = number_of_rooms\n",
        "\n",
        "mansion = Mansion(\"Lonavala\", 5000000, 12)\n",
        "\n",
        "print(\"Address:\", mansion.address)\n",
        "print(\"Price: \", mansion.price)\n",
        "print(\"Number of rooms:\", mansion.number_of_rooms)"
      ],
      "metadata": {
        "colab": {
          "base_uri": "https://localhost:8080/"
        },
        "id": "bI9-z-tNR368",
        "outputId": "87a7e0ce-d263-40f3-ad1f-07bddb7a9f72"
      },
      "execution_count": 8,
      "outputs": [
        {
          "output_type": "stream",
          "name": "stdout",
          "text": [
            "Address: Lonavala\n",
            "Price:  5000000\n",
            "Number of rooms: 12\n"
          ]
        }
      ]
    },
    {
      "cell_type": "code",
      "source": [],
      "metadata": {
        "id": "zIOY2RGySM7_"
      },
      "execution_count": null,
      "outputs": []
    }
  ]
}